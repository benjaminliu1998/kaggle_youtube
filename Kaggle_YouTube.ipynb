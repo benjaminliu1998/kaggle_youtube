{
  "nbformat": 4,
  "nbformat_minor": 0,
  "metadata": {
    "colab": {
      "name": "Kaggle YouTube.ipynb",
      "provenance": [],
      "machine_shape": "hm"
    },
    "kernelspec": {
      "name": "python3",
      "display_name": "Python 3"
    },
    "language_info": {
      "name": "python"
    },
    "accelerator": "GPU"
  },
  "cells": [
    {
      "cell_type": "code",
      "metadata": {
        "colab": {
          "base_uri": "https://localhost:8080/"
        },
        "id": "lbXtnxars6Qy",
        "outputId": "83de2ca2-fa7f-481c-85eb-0c8cb6ef0ce2"
      },
      "source": [
        "from google.colab import drive\n",
        "drive.mount('/content/drive')"
      ],
      "execution_count": null,
      "outputs": [
        {
          "output_type": "stream",
          "text": [
            "Mounted at /content/drive\n"
          ],
          "name": "stdout"
        }
      ]
    },
    {
      "cell_type": "markdown",
      "metadata": {
        "id": "PKJeapWnsLDF"
      },
      "source": [
        "Download Dataset https://www.kaggle.com/datasnaek/youtube-new \n",
        "\n",
        "Build Model\n",
        "\n",
        "- Predict video categories using movie comments/descriptions (either Deep learning or Sequence models)."
      ]
    },
    {
      "cell_type": "code",
      "metadata": {
        "id": "-e-TBd3UtNdp"
      },
      "source": [
        "import pandas as pd\n",
        "import numpy as np\n",
        "import matplotlib.pyplot as plt\n",
        "import seaborn as sns\n",
        "import tensorflow as tf\n",
        "import keras\n",
        "import re\n",
        "import torch\n",
        "!pip install transformers\n",
        "from transformers import BertTokenizer, BertModel\n",
        "import nltk\n",
        "nltk.download('punkt')\n",
        "nltk.download('stopwords')\n",
        "from nltk.tokenize import word_tokenize\n",
        "from nltk.corpus import stopwords\n",
        "from nltk.stem.wordnet import WordNetLemmatizer\n",
        "import string\n",
        "from sklearn.feature_extraction.text import TfidfVectorizer\n",
        "from sklearn.model_selection import train_test_split\n",
        "from sklearn.preprocessing import OneHotEncoder\n",
        "from sklearn.metrics import accuracy_score, f1_score, balanced_accuracy_score\n",
        "from keras import backend as K\n",
        "from keras.metrics import categorical_accuracy\n"
      ],
      "execution_count": null,
      "outputs": []
    },
    {
      "cell_type": "code",
      "metadata": {
        "id": "u8Dvm6rYoIsY"
      },
      "source": [
        "data_path = './Kaggle YouTube/'\n",
        "df = pd.read_csv(data_path+'USvideos.csv')\n",
        "\n",
        "df['description'] = df['description'].astype('str')\n",
        "df['category_id'] = df['category_id'].astype('category')"
      ],
      "execution_count": null,
      "outputs": []
    },
    {
      "cell_type": "markdown",
      "metadata": {
        "id": "sXA6rOdl53zf"
      },
      "source": [
        "### Data Description & EDA"
      ]
    },
    {
      "cell_type": "code",
      "metadata": {
        "colab": {
          "base_uri": "https://localhost:8080/",
          "height": 547
        },
        "id": "ZXqHjr3O53X5",
        "outputId": "fa0a820b-81e9-4251-d356-0705f01cbef8"
      },
      "source": [
        "print(df.shape)\n",
        "print(len(df.category_id.unique()))\n",
        "df.head(5)"
      ],
      "execution_count": null,
      "outputs": [
        {
          "output_type": "stream",
          "text": [
            "(40949, 16)\n",
            "16\n"
          ],
          "name": "stdout"
        },
        {
          "output_type": "execute_result",
          "data": {
            "text/html": [
              "<div>\n",
              "<style scoped>\n",
              "    .dataframe tbody tr th:only-of-type {\n",
              "        vertical-align: middle;\n",
              "    }\n",
              "\n",
              "    .dataframe tbody tr th {\n",
              "        vertical-align: top;\n",
              "    }\n",
              "\n",
              "    .dataframe thead th {\n",
              "        text-align: right;\n",
              "    }\n",
              "</style>\n",
              "<table border=\"1\" class=\"dataframe\">\n",
              "  <thead>\n",
              "    <tr style=\"text-align: right;\">\n",
              "      <th></th>\n",
              "      <th>video_id</th>\n",
              "      <th>trending_date</th>\n",
              "      <th>title</th>\n",
              "      <th>channel_title</th>\n",
              "      <th>category_id</th>\n",
              "      <th>publish_time</th>\n",
              "      <th>tags</th>\n",
              "      <th>views</th>\n",
              "      <th>likes</th>\n",
              "      <th>dislikes</th>\n",
              "      <th>comment_count</th>\n",
              "      <th>thumbnail_link</th>\n",
              "      <th>comments_disabled</th>\n",
              "      <th>ratings_disabled</th>\n",
              "      <th>video_error_or_removed</th>\n",
              "      <th>description</th>\n",
              "    </tr>\n",
              "  </thead>\n",
              "  <tbody>\n",
              "    <tr>\n",
              "      <th>0</th>\n",
              "      <td>2kyS6SvSYSE</td>\n",
              "      <td>17.14.11</td>\n",
              "      <td>WE WANT TO TALK ABOUT OUR MARRIAGE</td>\n",
              "      <td>CaseyNeistat</td>\n",
              "      <td>22</td>\n",
              "      <td>2017-11-13T17:13:01.000Z</td>\n",
              "      <td>SHANtell martin</td>\n",
              "      <td>748374</td>\n",
              "      <td>57527</td>\n",
              "      <td>2966</td>\n",
              "      <td>15954</td>\n",
              "      <td>https://i.ytimg.com/vi/2kyS6SvSYSE/default.jpg</td>\n",
              "      <td>False</td>\n",
              "      <td>False</td>\n",
              "      <td>False</td>\n",
              "      <td>SHANTELL'S CHANNEL - https://www.youtube.com/s...</td>\n",
              "    </tr>\n",
              "    <tr>\n",
              "      <th>1</th>\n",
              "      <td>1ZAPwfrtAFY</td>\n",
              "      <td>17.14.11</td>\n",
              "      <td>The Trump Presidency: Last Week Tonight with J...</td>\n",
              "      <td>LastWeekTonight</td>\n",
              "      <td>24</td>\n",
              "      <td>2017-11-13T07:30:00.000Z</td>\n",
              "      <td>last week tonight trump presidency|\"last week ...</td>\n",
              "      <td>2418783</td>\n",
              "      <td>97185</td>\n",
              "      <td>6146</td>\n",
              "      <td>12703</td>\n",
              "      <td>https://i.ytimg.com/vi/1ZAPwfrtAFY/default.jpg</td>\n",
              "      <td>False</td>\n",
              "      <td>False</td>\n",
              "      <td>False</td>\n",
              "      <td>One year after the presidential election, John...</td>\n",
              "    </tr>\n",
              "    <tr>\n",
              "      <th>2</th>\n",
              "      <td>5qpjK5DgCt4</td>\n",
              "      <td>17.14.11</td>\n",
              "      <td>Racist Superman | Rudy Mancuso, King Bach &amp; Le...</td>\n",
              "      <td>Rudy Mancuso</td>\n",
              "      <td>23</td>\n",
              "      <td>2017-11-12T19:05:24.000Z</td>\n",
              "      <td>racist superman|\"rudy\"|\"mancuso\"|\"king\"|\"bach\"...</td>\n",
              "      <td>3191434</td>\n",
              "      <td>146033</td>\n",
              "      <td>5339</td>\n",
              "      <td>8181</td>\n",
              "      <td>https://i.ytimg.com/vi/5qpjK5DgCt4/default.jpg</td>\n",
              "      <td>False</td>\n",
              "      <td>False</td>\n",
              "      <td>False</td>\n",
              "      <td>WATCH MY PREVIOUS VIDEO ▶ \\n\\nSUBSCRIBE ► http...</td>\n",
              "    </tr>\n",
              "    <tr>\n",
              "      <th>3</th>\n",
              "      <td>puqaWrEC7tY</td>\n",
              "      <td>17.14.11</td>\n",
              "      <td>Nickelback Lyrics: Real or Fake?</td>\n",
              "      <td>Good Mythical Morning</td>\n",
              "      <td>24</td>\n",
              "      <td>2017-11-13T11:00:04.000Z</td>\n",
              "      <td>rhett and link|\"gmm\"|\"good mythical morning\"|\"...</td>\n",
              "      <td>343168</td>\n",
              "      <td>10172</td>\n",
              "      <td>666</td>\n",
              "      <td>2146</td>\n",
              "      <td>https://i.ytimg.com/vi/puqaWrEC7tY/default.jpg</td>\n",
              "      <td>False</td>\n",
              "      <td>False</td>\n",
              "      <td>False</td>\n",
              "      <td>Today we find out if Link is a Nickelback amat...</td>\n",
              "    </tr>\n",
              "    <tr>\n",
              "      <th>4</th>\n",
              "      <td>d380meD0W0M</td>\n",
              "      <td>17.14.11</td>\n",
              "      <td>I Dare You: GOING BALD!?</td>\n",
              "      <td>nigahiga</td>\n",
              "      <td>24</td>\n",
              "      <td>2017-11-12T18:01:41.000Z</td>\n",
              "      <td>ryan|\"higa\"|\"higatv\"|\"nigahiga\"|\"i dare you\"|\"...</td>\n",
              "      <td>2095731</td>\n",
              "      <td>132235</td>\n",
              "      <td>1989</td>\n",
              "      <td>17518</td>\n",
              "      <td>https://i.ytimg.com/vi/d380meD0W0M/default.jpg</td>\n",
              "      <td>False</td>\n",
              "      <td>False</td>\n",
              "      <td>False</td>\n",
              "      <td>I know it's been a while since we did this sho...</td>\n",
              "    </tr>\n",
              "  </tbody>\n",
              "</table>\n",
              "</div>"
            ],
            "text/plain": [
              "      video_id  ...                                        description\n",
              "0  2kyS6SvSYSE  ...  SHANTELL'S CHANNEL - https://www.youtube.com/s...\n",
              "1  1ZAPwfrtAFY  ...  One year after the presidential election, John...\n",
              "2  5qpjK5DgCt4  ...  WATCH MY PREVIOUS VIDEO ▶ \\n\\nSUBSCRIBE ► http...\n",
              "3  puqaWrEC7tY  ...  Today we find out if Link is a Nickelback amat...\n",
              "4  d380meD0W0M  ...  I know it's been a while since we did this sho...\n",
              "\n",
              "[5 rows x 16 columns]"
            ]
          },
          "metadata": {
            "tags": []
          },
          "execution_count": 4
        }
      ]
    },
    {
      "cell_type": "code",
      "metadata": {
        "colab": {
          "base_uri": "https://localhost:8080/",
          "height": 313
        },
        "id": "FMzdUjKiIZEk",
        "outputId": "121bb919-dd10-40f6-debc-3f7800754332"
      },
      "source": [
        "sns.countplot(x=\"category_id\", data=df)\n",
        "plt.title('Count of each category')"
      ],
      "execution_count": null,
      "outputs": [
        {
          "output_type": "execute_result",
          "data": {
            "text/plain": [
              "Text(0.5, 1.0, 'Count of each category')"
            ]
          },
          "metadata": {
            "tags": []
          },
          "execution_count": 54
        },
        {
          "output_type": "display_data",
          "data": {
            "image/png": "[encoded data removed]",
            "text/plain": [
              "<Figure size 360x288 with 1 Axes>"
            ]
          },
          "metadata": {
            "tags": [],
            "needs_background": "light"
          }
        }
      ]
    },
    {
      "cell_type": "code",
      "metadata": {
        "colab": {
          "base_uri": "https://localhost:8080/",
          "height": 846
        },
        "id": "KlJW4nMgYIFA",
        "outputId": "f6265db4-8655-42c3-f6ab-29248e8b9c02"
      },
      "source": [
        "desc_len = []\n",
        "for i in range(len(df)):\n",
        "  desc_len.append((len(df.description[i])))\n",
        "\n",
        "plt.hist(desc_len, bins = 100)"
      ],
      "execution_count": null,
      "outputs": [
        {
          "output_type": "execute_result",
          "data": {
            "text/plain": [
              "(array([1028., 1114., 1506., 1271., 1067., 1152., 1336., 1536., 1489.,\n",
              "        1433., 1474., 1369., 1279., 1211., 1009., 1032., 1216., 1033.,\n",
              "        1156., 1002.,  794.,  930.,  909.,  839.,  906.,  919.,  638.,\n",
              "         742.,  519.,  638.,  590.,  416.,  331.,  350.,  415.,  309.,\n",
              "         322.,  278.,  346.,  360.,  270.,  365.,  263.,  228.,  187.,\n",
              "         215.,  143.,  177.,  238.,  122.,  120.,  111.,   88.,  107.,\n",
              "         210.,  132.,   91.,  107.,  110.,   98.,  122.,   54.,   22.,\n",
              "          68.,   25.,  106.,   47.,   42.,   30.,   38.,   62.,   35.,\n",
              "          19.,    9.,   32.,   16.,   33.,   17.,   32.,   19.,   30.,\n",
              "          39.,   34.,   32.,   13.,   18.,   35.,   12.,   22.,    0.,\n",
              "          13.,    9.,   20.,   24.,   52.,   29.,    0.,   30.,   61.,\n",
              "           2.]),\n",
              " array([1.00000e+00, 5.22200e+01, 1.03440e+02, 1.54660e+02, 2.05880e+02,\n",
              "        2.57100e+02, 3.08320e+02, 3.59540e+02, 4.10760e+02, 4.61980e+02,\n",
              "        5.13200e+02, 5.64420e+02, 6.15640e+02, 6.66860e+02, 7.18080e+02,\n",
              "        7.69300e+02, 8.20520e+02, 8.71740e+02, 9.22960e+02, 9.74180e+02,\n",
              "        1.02540e+03, 1.07662e+03, 1.12784e+03, 1.17906e+03, 1.23028e+03,\n",
              "        1.28150e+03, 1.33272e+03, 1.38394e+03, 1.43516e+03, 1.48638e+03,\n",
              "        1.53760e+03, 1.58882e+03, 1.64004e+03, 1.69126e+03, 1.74248e+03,\n",
              "        1.79370e+03, 1.84492e+03, 1.89614e+03, 1.94736e+03, 1.99858e+03,\n",
              "        2.04980e+03, 2.10102e+03, 2.15224e+03, 2.20346e+03, 2.25468e+03,\n",
              "        2.30590e+03, 2.35712e+03, 2.40834e+03, 2.45956e+03, 2.51078e+03,\n",
              "        2.56200e+03, 2.61322e+03, 2.66444e+03, 2.71566e+03, 2.76688e+03,\n",
              "        2.81810e+03, 2.86932e+03, 2.92054e+03, 2.97176e+03, 3.02298e+03,\n",
              "        3.07420e+03, 3.12542e+03, 3.17664e+03, 3.22786e+03, 3.27908e+03,\n",
              "        3.33030e+03, 3.38152e+03, 3.43274e+03, 3.48396e+03, 3.53518e+03,\n",
              "        3.58640e+03, 3.63762e+03, 3.68884e+03, 3.74006e+03, 3.79128e+03,\n",
              "        3.84250e+03, 3.89372e+03, 3.94494e+03, 3.99616e+03, 4.04738e+03,\n",
              "        4.09860e+03, 4.14982e+03, 4.20104e+03, 4.25226e+03, 4.30348e+03,\n",
              "        4.35470e+03, 4.40592e+03, 4.45714e+03, 4.50836e+03, 4.55958e+03,\n",
              "        4.61080e+03, 4.66202e+03, 4.71324e+03, 4.76446e+03, 4.81568e+03,\n",
              "        4.86690e+03, 4.91812e+03, 4.96934e+03, 5.02056e+03, 5.07178e+03,\n",
              "        5.12300e+03]),\n",
              " <a list of 100 Patch objects>)"
            ]
          },
          "metadata": {
            "tags": []
          },
          "execution_count": 61
        },
        {
          "output_type": "display_data",
          "data": {
            "image/png": "[encoded data removed]",
            "text/plain": [
              "<Figure size 360x288 with 1 Axes>"
            ]
          },
          "metadata": {
            "tags": [],
            "needs_background": "light"
          }
        }
      ]
    },
    {
      "cell_type": "markdown",
      "metadata": {
        "id": "xXGvLQznKo9_"
      },
      "source": [
        "### Processing `Description`\n",
        "- remove url in a description\n",
        "- use a pretrained BERT to create embeddings for descriptions: the last hidden state of the CLS token"
      ]
    },
    {
      "cell_type": "code",
      "metadata": {
        "colab": {
          "base_uri": "https://localhost:8080/",
          "height": 35
        },
        "id": "ibOzjzROiEb4",
        "outputId": "7bc904fd-8b2f-4ba1-84e1-1bf59b7827bd"
      },
      "source": [
        "device = torch.device(\"cuda\" if torch.cuda.is_available() else \"cpu\")\n",
        "torch.cuda.get_device_name(0)"
      ],
      "execution_count": null,
      "outputs": [
        {
          "output_type": "execute_result",
          "data": {
            "application/vnd.google.colaboratory.intrinsic+json": {
              "type": "string"
            },
            "text/plain": [
              "'Tesla P100-PCIE-16GB'"
            ]
          },
          "metadata": {
            "tags": []
          },
          "execution_count": 5
        }
      ]
    },
    {
      "cell_type": "code",
      "metadata": {
        "id": "MDllBMepiXbD"
      },
      "source": [
        "def remove_url(text):\n",
        "  text = re.sub(r'https?:\\/\\/[^ ]+', '', text)\n",
        "  text = re.sub(r'  ', ' ', text)\n",
        "  return text\n",
        "\n",
        "def bert_encode(df):\n",
        "  tokenizer = BertTokenizer.from_pretrained('bert-base-uncased', do_lower_case=True)\n",
        "  bert_model = BertModel.from_pretrained('bert-base-uncased').to(device)\n",
        "  \n",
        "  # remove url\n",
        "  df.description = df.description.map(lambda x: remove_url(x))\n",
        "\n",
        "  batch_size = 64\n",
        "  emb_concat = torch.Tensor([]).to(device)\n",
        "  for i in range(0, len(df), batch_size):\n",
        "    print(i)\n",
        "    batch = df.description[i: i + batch_size]\n",
        "    indexed_tokens = tokenizer.batch_encode_plus(\n",
        "                          batch,\n",
        "                          max_length=128, # number of tokens\n",
        "                          truncation = True,\n",
        "                          padding='max_length',\n",
        "                          return_tensors = 'pt')['input_ids'].to(device)\n",
        "    with torch.no_grad():\n",
        "      emb_cls = bert_model(indexed_tokens).last_hidden_state[:,0,:].to(device)\n",
        "    emb_concat = torch.cat([emb_concat, emb_cls], dim=0)\n",
        "  return emb_concat"
      ],
      "execution_count": null,
      "outputs": []
    },
    {
      "cell_type": "code",
      "metadata": {
        "id": "lapscQ57f8T4"
      },
      "source": [
        "bert_emb = bert_encode(df)\n",
        "torch.save(bert_emb, './Kaggle YouTube/Saved Data/bert_emb.pt')\n",
        "#bert_emb = torch.load('./Kaggle YouTube/Saved Data/bert_emb.pt')"
      ],
      "execution_count": null,
      "outputs": []
    },
    {
      "cell_type": "code",
      "metadata": {
        "id": "rTf2TA1i59Gv",
        "colab": {
          "base_uri": "https://localhost:8080/"
        },
        "outputId": "30610541-7be4-4c1c-ab80-73f92b6b65e8"
      },
      "source": [
        "y = df.category_id\n",
        "X = pd.DataFrame(bert_emb.cpu().numpy())\n",
        "print(\"X shape:\", X.shape, \"y shape:\", y.shape)"
      ],
      "execution_count": null,
      "outputs": [
        {
          "output_type": "stream",
          "text": [
            "X shape: (40949, 768) y shape: (40949,)\n"
          ],
          "name": "stdout"
        }
      ]
    },
    {
      "cell_type": "markdown",
      "metadata": {
        "id": "I3lO5XFTjDLH"
      },
      "source": [
        "### Modeling\n",
        "- one-hot encode labels\n",
        "- 80/20 train/test split\n",
        "- LSTM"
      ]
    },
    {
      "cell_type": "code",
      "metadata": {
        "id": "ItJj7CbvyYvy",
        "colab": {
          "base_uri": "https://localhost:8080/"
        },
        "outputId": "54997d7e-fe27-4409-e4f8-063b4c2d9881"
      },
      "source": [
        "# one hot encode y\n",
        "enc = OneHotEncoder(handle_unknown='ignore')\n",
        "y_enc = enc.fit_transform(np.array(y).reshape(40949, 1)).toarray()\n",
        "print('y one hot encoded shape:', y_enc.shape)\n",
        "\n",
        "# train test split\n",
        "X_train, X_test, y_train_enc, y_test_enc = train_test_split(X, y_enc, train_size=0.8, random_state = 2021)\n"
      ],
      "execution_count": null,
      "outputs": [
        {
          "output_type": "stream",
          "text": [
            "y one hot encoded shape: (40949, 16)\n"
          ],
          "name": "stdout"
        }
      ]
    },
    {
      "cell_type": "code",
      "metadata": {
        "colab": {
          "base_uri": "https://localhost:8080/"
        },
        "id": "zCQYPpf0yOJu",
        "outputId": "8304f8b3-99ff-4d35-c0c2-90bfdfdf8395"
      },
      "source": [
        "# reshape X_train for lstm\n",
        "X_train_input = np.reshape(np.array(X_train), (X_train.shape[0], 1, X_train.shape[1]))\n",
        "X_test_input = np.reshape(np.array(X_test), (X_test.shape[0], 1, X_test.shape[1]))\n",
        "\n",
        "# lstm model\n",
        "n_units = 64\n",
        "batch_size = 64\n",
        "optimizer = 'adam'\n",
        "\n",
        "model_lstm = keras.models.Sequential([\n",
        "    keras.layers.LSTM(n_units, input_shape = (None, X.shape[1]), recurrent_dropout=0.7),\n",
        "    keras.layers.Dense(16, activation='softmax')]\n",
        ")\n",
        "model_lstm.compile(loss='categorical_crossentropy', optimizer=optimizer, metrics=['categorical_accuracy'])\n",
        "print(model_lstm.summary())\n",
        "history_lstm = model_lstm.fit(X_train_input, y_train_enc, epochs=100, batch_size=batch_size, validation_split=0.1)"
      ],
      "execution_count": null,
      "outputs": [
        {
          "output_type": "stream",
          "text": [
            "WARNING:tensorflow:Layer lstm_29 will not use cuDNN kernels since it doesn't meet the criteria. It will use a generic GPU kernel as fallback when running on GPU.\n",
            "Model: \"sequential_29\"\n",
            "_________________________________________________________________\n",
            "Layer (type)                 Output Shape              Param #   \n",
            "=================================================================\n",
            "lstm_29 (LSTM)               (None, 64)                213248    \n",
            "_________________________________________________________________\n",
            "dense_29 (Dense)             (None, 16)                1040      \n",
            "=================================================================\n",
            "Total params: 214,288\n",
            "Trainable params: 214,288\n",
            "Non-trainable params: 0\n",
            "_________________________________________________________________\n",
            "None\n",
            "Epoch 1/100\n",
            "461/461 [==============================] - 8s 10ms/step - loss: 1.8829 - categorical_accuracy: 0.4141 - val_loss: 1.2183 - val_categorical_accuracy: 0.6013\n",
            "Epoch 2/100\n",
            "461/461 [==============================] - 4s 8ms/step - loss: 1.1332 - categorical_accuracy: 0.6518 - val_loss: 0.9904 - val_categorical_accuracy: 0.6874\n",
            "Epoch 3/100\n",
            "461/461 [==============================] - 4s 8ms/step - loss: 0.9244 - categorical_accuracy: 0.7240 - val_loss: 0.8734 - val_categorical_accuracy: 0.7320\n",
            "Epoch 4/100\n",
            "461/461 [==============================] - 4s 8ms/step - loss: 0.7952 - categorical_accuracy: 0.7639 - val_loss: 0.7147 - val_categorical_accuracy: 0.7912\n",
            "Epoch 5/100\n",
            "461/461 [==============================] - 4s 8ms/step - loss: 0.6819 - categorical_accuracy: 0.8011 - val_loss: 0.6515 - val_categorical_accuracy: 0.8120\n",
            "Epoch 6/100\n",
            "461/461 [==============================] - 4s 8ms/step - loss: 0.5926 - categorical_accuracy: 0.8284 - val_loss: 0.6018 - val_categorical_accuracy: 0.8202\n",
            "Epoch 7/100\n",
            "461/461 [==============================] - 4s 8ms/step - loss: 0.5359 - categorical_accuracy: 0.8500 - val_loss: 0.5425 - val_categorical_accuracy: 0.8416\n",
            "Epoch 8/100\n",
            "461/461 [==============================] - 4s 8ms/step - loss: 0.4790 - categorical_accuracy: 0.8627 - val_loss: 0.4877 - val_categorical_accuracy: 0.8639\n",
            "Epoch 9/100\n",
            "461/461 [==============================] - 4s 8ms/step - loss: 0.4467 - categorical_accuracy: 0.8762 - val_loss: 0.4445 - val_categorical_accuracy: 0.8755\n",
            "Epoch 10/100\n",
            "461/461 [==============================] - 4s 8ms/step - loss: 0.3997 - categorical_accuracy: 0.8879 - val_loss: 0.4237 - val_categorical_accuracy: 0.8800\n",
            "Epoch 11/100\n",
            "461/461 [==============================] - 4s 8ms/step - loss: 0.3633 - categorical_accuracy: 0.8970 - val_loss: 0.3603 - val_categorical_accuracy: 0.9038\n",
            "Epoch 12/100\n",
            "461/461 [==============================] - 4s 8ms/step - loss: 0.3373 - categorical_accuracy: 0.9041 - val_loss: 0.3841 - val_categorical_accuracy: 0.8861\n",
            "Epoch 13/100\n",
            "461/461 [==============================] - 4s 8ms/step - loss: 0.3157 - categorical_accuracy: 0.9105 - val_loss: 0.3400 - val_categorical_accuracy: 0.9017\n",
            "Epoch 14/100\n",
            "461/461 [==============================] - 4s 8ms/step - loss: 0.2861 - categorical_accuracy: 0.9216 - val_loss: 0.3094 - val_categorical_accuracy: 0.9124\n",
            "Epoch 15/100\n",
            "461/461 [==============================] - 4s 8ms/step - loss: 0.2811 - categorical_accuracy: 0.9204 - val_loss: 0.2980 - val_categorical_accuracy: 0.9182\n",
            "Epoch 16/100\n",
            "461/461 [==============================] - 4s 8ms/step - loss: 0.2580 - categorical_accuracy: 0.9285 - val_loss: 0.3063 - val_categorical_accuracy: 0.9127\n",
            "Epoch 17/100\n",
            "461/461 [==============================] - 4s 8ms/step - loss: 0.2460 - categorical_accuracy: 0.9291 - val_loss: 0.2568 - val_categorical_accuracy: 0.9286\n",
            "Epoch 18/100\n",
            "461/461 [==============================] - 4s 8ms/step - loss: 0.2278 - categorical_accuracy: 0.9371 - val_loss: 0.3244 - val_categorical_accuracy: 0.9054\n",
            "Epoch 19/100\n",
            "461/461 [==============================] - 4s 8ms/step - loss: 0.2184 - categorical_accuracy: 0.9377 - val_loss: 0.2489 - val_categorical_accuracy: 0.9313\n",
            "Epoch 20/100\n",
            "461/461 [==============================] - 4s 8ms/step - loss: 0.2095 - categorical_accuracy: 0.9416 - val_loss: 0.2738 - val_categorical_accuracy: 0.9194\n",
            "Epoch 21/100\n",
            "461/461 [==============================] - 4s 8ms/step - loss: 0.1985 - categorical_accuracy: 0.9457 - val_loss: 0.2366 - val_categorical_accuracy: 0.9328\n",
            "Epoch 22/100\n",
            "461/461 [==============================] - 4s 8ms/step - loss: 0.1949 - categorical_accuracy: 0.9442 - val_loss: 0.2272 - val_categorical_accuracy: 0.9347\n",
            "Epoch 23/100\n",
            "461/461 [==============================] - 4s 8ms/step - loss: 0.1713 - categorical_accuracy: 0.9521 - val_loss: 0.2103 - val_categorical_accuracy: 0.9417\n",
            "Epoch 24/100\n",
            "461/461 [==============================] - 4s 8ms/step - loss: 0.1604 - categorical_accuracy: 0.9548 - val_loss: 0.2341 - val_categorical_accuracy: 0.9325\n",
            "Epoch 25/100\n",
            "461/461 [==============================] - 4s 8ms/step - loss: 0.1594 - categorical_accuracy: 0.9555 - val_loss: 0.1875 - val_categorical_accuracy: 0.9441\n",
            "Epoch 26/100\n",
            "461/461 [==============================] - 4s 8ms/step - loss: 0.1560 - categorical_accuracy: 0.9548 - val_loss: 0.2054 - val_categorical_accuracy: 0.9396\n",
            "Epoch 27/100\n",
            "461/461 [==============================] - 4s 8ms/step - loss: 0.1594 - categorical_accuracy: 0.9549 - val_loss: 0.1884 - val_categorical_accuracy: 0.9469\n",
            "Epoch 28/100\n",
            "461/461 [==============================] - 4s 8ms/step - loss: 0.1473 - categorical_accuracy: 0.9592 - val_loss: 0.1739 - val_categorical_accuracy: 0.9502\n",
            "Epoch 29/100\n",
            "461/461 [==============================] - 4s 8ms/step - loss: 0.1372 - categorical_accuracy: 0.9623 - val_loss: 0.1809 - val_categorical_accuracy: 0.9524\n",
            "Epoch 30/100\n",
            "461/461 [==============================] - 4s 8ms/step - loss: 0.1338 - categorical_accuracy: 0.9617 - val_loss: 0.1880 - val_categorical_accuracy: 0.9454\n",
            "Epoch 31/100\n",
            "461/461 [==============================] - 4s 8ms/step - loss: 0.1240 - categorical_accuracy: 0.9656 - val_loss: 0.1681 - val_categorical_accuracy: 0.9545\n",
            "Epoch 32/100\n",
            "461/461 [==============================] - 4s 8ms/step - loss: 0.1305 - categorical_accuracy: 0.9620 - val_loss: 0.1727 - val_categorical_accuracy: 0.9530\n",
            "Epoch 33/100\n",
            "461/461 [==============================] - 4s 8ms/step - loss: 0.1269 - categorical_accuracy: 0.9628 - val_loss: 0.1612 - val_categorical_accuracy: 0.9582\n",
            "Epoch 34/100\n",
            "461/461 [==============================] - 4s 8ms/step - loss: 0.1071 - categorical_accuracy: 0.9694 - val_loss: 0.1918 - val_categorical_accuracy: 0.9475\n",
            "Epoch 35/100\n",
            "461/461 [==============================] - 4s 8ms/step - loss: 0.1195 - categorical_accuracy: 0.9652 - val_loss: 0.1565 - val_categorical_accuracy: 0.9579\n",
            "Epoch 36/100\n",
            "461/461 [==============================] - 4s 8ms/step - loss: 0.1111 - categorical_accuracy: 0.9680 - val_loss: 0.1584 - val_categorical_accuracy: 0.9560\n",
            "Epoch 37/100\n",
            "461/461 [==============================] - 4s 8ms/step - loss: 0.0993 - categorical_accuracy: 0.9705 - val_loss: 0.2069 - val_categorical_accuracy: 0.9454\n",
            "Epoch 38/100\n",
            "461/461 [==============================] - 4s 8ms/step - loss: 0.1156 - categorical_accuracy: 0.9666 - val_loss: 0.1424 - val_categorical_accuracy: 0.9618\n",
            "Epoch 39/100\n",
            "461/461 [==============================] - 4s 8ms/step - loss: 0.1003 - categorical_accuracy: 0.9706 - val_loss: 0.1623 - val_categorical_accuracy: 0.9570\n",
            "Epoch 40/100\n",
            "461/461 [==============================] - 4s 8ms/step - loss: 0.1015 - categorical_accuracy: 0.9691 - val_loss: 0.1446 - val_categorical_accuracy: 0.9631\n",
            "Epoch 41/100\n",
            "461/461 [==============================] - 4s 8ms/step - loss: 0.0957 - categorical_accuracy: 0.9719 - val_loss: 0.1714 - val_categorical_accuracy: 0.9509\n",
            "Epoch 42/100\n",
            "461/461 [==============================] - 4s 8ms/step - loss: 0.0956 - categorical_accuracy: 0.9729 - val_loss: 0.1700 - val_categorical_accuracy: 0.9518\n",
            "Epoch 43/100\n",
            "461/461 [==============================] - 4s 8ms/step - loss: 0.0939 - categorical_accuracy: 0.9726 - val_loss: 0.1323 - val_categorical_accuracy: 0.9658\n",
            "Epoch 44/100\n",
            "461/461 [==============================] - 4s 8ms/step - loss: 0.0862 - categorical_accuracy: 0.9748 - val_loss: 0.1493 - val_categorical_accuracy: 0.9609\n",
            "Epoch 45/100\n",
            "461/461 [==============================] - 4s 8ms/step - loss: 0.1010 - categorical_accuracy: 0.9685 - val_loss: 0.1261 - val_categorical_accuracy: 0.9683\n",
            "Epoch 46/100\n",
            "461/461 [==============================] - 4s 8ms/step - loss: 0.0825 - categorical_accuracy: 0.9757 - val_loss: 0.1357 - val_categorical_accuracy: 0.9661\n",
            "Epoch 47/100\n",
            "461/461 [==============================] - 4s 8ms/step - loss: 0.0841 - categorical_accuracy: 0.9759 - val_loss: 0.1367 - val_categorical_accuracy: 0.9692\n",
            "Epoch 48/100\n",
            "461/461 [==============================] - 4s 8ms/step - loss: 0.0791 - categorical_accuracy: 0.9768 - val_loss: 0.1351 - val_categorical_accuracy: 0.9692\n",
            "Epoch 49/100\n",
            "461/461 [==============================] - 4s 8ms/step - loss: 0.0757 - categorical_accuracy: 0.9775 - val_loss: 0.1504 - val_categorical_accuracy: 0.9606\n",
            "Epoch 50/100\n",
            "461/461 [==============================] - 4s 8ms/step - loss: 0.0919 - categorical_accuracy: 0.9727 - val_loss: 0.1544 - val_categorical_accuracy: 0.9600\n",
            "Epoch 51/100\n",
            "461/461 [==============================] - 4s 8ms/step - loss: 0.0795 - categorical_accuracy: 0.9762 - val_loss: 0.1251 - val_categorical_accuracy: 0.9689\n",
            "Epoch 52/100\n",
            "461/461 [==============================] - 4s 8ms/step - loss: 0.0755 - categorical_accuracy: 0.9770 - val_loss: 0.1334 - val_categorical_accuracy: 0.9710\n",
            "Epoch 53/100\n",
            "461/461 [==============================] - 4s 8ms/step - loss: 0.0686 - categorical_accuracy: 0.9800 - val_loss: 0.1284 - val_categorical_accuracy: 0.9652\n",
            "Epoch 54/100\n",
            "461/461 [==============================] - 4s 8ms/step - loss: 0.0752 - categorical_accuracy: 0.9769 - val_loss: 0.1333 - val_categorical_accuracy: 0.9676\n",
            "Epoch 55/100\n",
            "461/461 [==============================] - 4s 8ms/step - loss: 0.0751 - categorical_accuracy: 0.9778 - val_loss: 0.1283 - val_categorical_accuracy: 0.9695\n",
            "Epoch 56/100\n",
            "461/461 [==============================] - 4s 8ms/step - loss: 0.0703 - categorical_accuracy: 0.9786 - val_loss: 0.2840 - val_categorical_accuracy: 0.9103\n",
            "Epoch 57/100\n",
            "461/461 [==============================] - 4s 8ms/step - loss: 0.0887 - categorical_accuracy: 0.9719 - val_loss: 0.1492 - val_categorical_accuracy: 0.9637\n",
            "Epoch 58/100\n",
            "461/461 [==============================] - 4s 8ms/step - loss: 0.0650 - categorical_accuracy: 0.9802 - val_loss: 0.1568 - val_categorical_accuracy: 0.9588\n",
            "Epoch 59/100\n",
            "461/461 [==============================] - 4s 8ms/step - loss: 0.0691 - categorical_accuracy: 0.9789 - val_loss: 0.1344 - val_categorical_accuracy: 0.9704\n",
            "Epoch 60/100\n",
            "461/461 [==============================] - 4s 8ms/step - loss: 0.0672 - categorical_accuracy: 0.9794 - val_loss: 0.1288 - val_categorical_accuracy: 0.9722\n",
            "Epoch 61/100\n",
            "461/461 [==============================] - 4s 8ms/step - loss: 0.0630 - categorical_accuracy: 0.9802 - val_loss: 0.1401 - val_categorical_accuracy: 0.9664\n",
            "Epoch 62/100\n",
            "461/461 [==============================] - 4s 8ms/step - loss: 0.0672 - categorical_accuracy: 0.9794 - val_loss: 0.1306 - val_categorical_accuracy: 0.9716\n",
            "Epoch 63/100\n",
            "461/461 [==============================] - 4s 8ms/step - loss: 0.0667 - categorical_accuracy: 0.9799 - val_loss: 0.1352 - val_categorical_accuracy: 0.9701\n",
            "Epoch 64/100\n",
            "461/461 [==============================] - 4s 8ms/step - loss: 0.0655 - categorical_accuracy: 0.9807 - val_loss: 0.1301 - val_categorical_accuracy: 0.9689\n",
            "Epoch 65/100\n",
            "461/461 [==============================] - 4s 8ms/step - loss: 0.0614 - categorical_accuracy: 0.9807 - val_loss: 0.1226 - val_categorical_accuracy: 0.9734\n",
            "Epoch 66/100\n",
            "461/461 [==============================] - 4s 8ms/step - loss: 0.0663 - categorical_accuracy: 0.9797 - val_loss: 0.1118 - val_categorical_accuracy: 0.9765\n",
            "Epoch 67/100\n",
            "461/461 [==============================] - 4s 8ms/step - loss: 0.0531 - categorical_accuracy: 0.9833 - val_loss: 0.1198 - val_categorical_accuracy: 0.9753\n",
            "Epoch 68/100\n",
            "461/461 [==============================] - 4s 8ms/step - loss: 0.0583 - categorical_accuracy: 0.9823 - val_loss: 0.1294 - val_categorical_accuracy: 0.9719\n",
            "Epoch 69/100\n",
            "461/461 [==============================] - 4s 8ms/step - loss: 0.0753 - categorical_accuracy: 0.9770 - val_loss: 0.1179 - val_categorical_accuracy: 0.9716\n",
            "Epoch 70/100\n",
            "461/461 [==============================] - 4s 8ms/step - loss: 0.0521 - categorical_accuracy: 0.9836 - val_loss: 0.1320 - val_categorical_accuracy: 0.9664\n",
            "Epoch 71/100\n",
            "461/461 [==============================] - 4s 8ms/step - loss: 0.0618 - categorical_accuracy: 0.9802 - val_loss: 0.1354 - val_categorical_accuracy: 0.9713\n",
            "Epoch 72/100\n",
            "461/461 [==============================] - 4s 8ms/step - loss: 0.0575 - categorical_accuracy: 0.9830 - val_loss: 0.1208 - val_categorical_accuracy: 0.9744\n",
            "Epoch 73/100\n",
            "461/461 [==============================] - 4s 8ms/step - loss: 0.0537 - categorical_accuracy: 0.9824 - val_loss: 0.1234 - val_categorical_accuracy: 0.9713\n",
            "Epoch 74/100\n",
            "461/461 [==============================] - 4s 8ms/step - loss: 0.0539 - categorical_accuracy: 0.9839 - val_loss: 0.1905 - val_categorical_accuracy: 0.9505\n",
            "Epoch 75/100\n",
            "461/461 [==============================] - 4s 8ms/step - loss: 0.1066 - categorical_accuracy: 0.9651 - val_loss: 0.1265 - val_categorical_accuracy: 0.9704\n",
            "Epoch 76/100\n",
            "461/461 [==============================] - 4s 8ms/step - loss: 0.0532 - categorical_accuracy: 0.9835 - val_loss: 0.1267 - val_categorical_accuracy: 0.9741\n",
            "Epoch 77/100\n",
            "461/461 [==============================] - 4s 8ms/step - loss: 0.0539 - categorical_accuracy: 0.9829 - val_loss: 0.1272 - val_categorical_accuracy: 0.9698\n",
            "Epoch 78/100\n",
            "461/461 [==============================] - 4s 8ms/step - loss: 0.0559 - categorical_accuracy: 0.9817 - val_loss: 0.1249 - val_categorical_accuracy: 0.9716\n",
            "Epoch 79/100\n",
            "461/461 [==============================] - 4s 8ms/step - loss: 0.0598 - categorical_accuracy: 0.9810 - val_loss: 0.1151 - val_categorical_accuracy: 0.9747\n",
            "Epoch 80/100\n",
            "461/461 [==============================] - 4s 8ms/step - loss: 0.0532 - categorical_accuracy: 0.9829 - val_loss: 0.1185 - val_categorical_accuracy: 0.9734\n",
            "Epoch 81/100\n",
            "461/461 [==============================] - 4s 8ms/step - loss: 0.0498 - categorical_accuracy: 0.9844 - val_loss: 0.1364 - val_categorical_accuracy: 0.9686\n",
            "Epoch 82/100\n",
            "461/461 [==============================] - 4s 8ms/step - loss: 0.0545 - categorical_accuracy: 0.9828 - val_loss: 0.1202 - val_categorical_accuracy: 0.9750\n",
            "Epoch 83/100\n",
            "461/461 [==============================] - 4s 8ms/step - loss: 0.0481 - categorical_accuracy: 0.9838 - val_loss: 0.1215 - val_categorical_accuracy: 0.9753\n",
            "Epoch 84/100\n",
            "461/461 [==============================] - 4s 8ms/step - loss: 0.0535 - categorical_accuracy: 0.9831 - val_loss: 0.1233 - val_categorical_accuracy: 0.9716\n",
            "Epoch 85/100\n",
            "461/461 [==============================] - 4s 8ms/step - loss: 0.0470 - categorical_accuracy: 0.9850 - val_loss: 0.1316 - val_categorical_accuracy: 0.9698\n",
            "Epoch 86/100\n",
            "461/461 [==============================] - 4s 8ms/step - loss: 0.0503 - categorical_accuracy: 0.9840 - val_loss: 0.1471 - val_categorical_accuracy: 0.9658\n",
            "Epoch 87/100\n",
            "461/461 [==============================] - 4s 8ms/step - loss: 0.0482 - categorical_accuracy: 0.9834 - val_loss: 0.1281 - val_categorical_accuracy: 0.9753\n",
            "Epoch 88/100\n",
            "461/461 [==============================] - 4s 8ms/step - loss: 0.0478 - categorical_accuracy: 0.9845 - val_loss: 0.1177 - val_categorical_accuracy: 0.9750\n",
            "Epoch 89/100\n",
            "461/461 [==============================] - 4s 8ms/step - loss: 0.0562 - categorical_accuracy: 0.9813 - val_loss: 0.1182 - val_categorical_accuracy: 0.9792\n",
            "Epoch 90/100\n",
            "461/461 [==============================] - 4s 8ms/step - loss: 0.0516 - categorical_accuracy: 0.9828 - val_loss: 0.1197 - val_categorical_accuracy: 0.9768\n",
            "Epoch 91/100\n",
            "461/461 [==============================] - 4s 8ms/step - loss: 0.0492 - categorical_accuracy: 0.9842 - val_loss: 0.1303 - val_categorical_accuracy: 0.9710\n",
            "Epoch 92/100\n",
            "461/461 [==============================] - 4s 8ms/step - loss: 0.0497 - categorical_accuracy: 0.9833 - val_loss: 0.1240 - val_categorical_accuracy: 0.9731\n",
            "Epoch 93/100\n",
            "461/461 [==============================] - 4s 8ms/step - loss: 0.0502 - categorical_accuracy: 0.9832 - val_loss: 0.1220 - val_categorical_accuracy: 0.9756\n",
            "Epoch 94/100\n",
            "461/461 [==============================] - 4s 8ms/step - loss: 0.0817 - categorical_accuracy: 0.9736 - val_loss: 0.1150 - val_categorical_accuracy: 0.9762\n",
            "Epoch 95/100\n",
            "461/461 [==============================] - 4s 8ms/step - loss: 0.0473 - categorical_accuracy: 0.9840 - val_loss: 0.1091 - val_categorical_accuracy: 0.9765\n",
            "Epoch 96/100\n",
            "461/461 [==============================] - 4s 8ms/step - loss: 0.0464 - categorical_accuracy: 0.9843 - val_loss: 0.1134 - val_categorical_accuracy: 0.9765\n",
            "Epoch 97/100\n",
            "461/461 [==============================] - 4s 8ms/step - loss: 0.0477 - categorical_accuracy: 0.9835 - val_loss: 0.1555 - val_categorical_accuracy: 0.9634\n",
            "Epoch 98/100\n",
            "461/461 [==============================] - 4s 8ms/step - loss: 0.0514 - categorical_accuracy: 0.9831 - val_loss: 0.1230 - val_categorical_accuracy: 0.9777\n",
            "Epoch 99/100\n",
            "461/461 [==============================] - 4s 8ms/step - loss: 0.0560 - categorical_accuracy: 0.9815 - val_loss: 0.1145 - val_categorical_accuracy: 0.9786\n",
            "Epoch 100/100\n",
            "461/461 [==============================] - 4s 8ms/step - loss: 0.0463 - categorical_accuracy: 0.9846 - val_loss: 0.1260 - val_categorical_accuracy: 0.9744\n"
          ],
          "name": "stdout"
        }
      ]
    },
    {
      "cell_type": "code",
      "metadata": {
        "colab": {
          "base_uri": "https://localhost:8080/",
          "height": 590
        },
        "id": "v6HdWHjaANRE",
        "outputId": "c28d4c0d-9fff-4889-fb1a-f48cabd66cea"
      },
      "source": [
        "def eval_model(history_model, X_test, y_test):\n",
        "  # test result\n",
        "  y_pred = model_lstm.predict(X_test) # in probabilities\n",
        "  metric = tf.keras.metrics.CategoricalAccuracy()\n",
        "  metric.update_state(y_test, y_pred)\n",
        "  print(\"Test Categorical Accuracy:\", metric.result().numpy())\n",
        "\n",
        "  # plot accuracy\n",
        "  plt.title(\"LSTM Model Acc\")\n",
        "  plt.plot(history_model.history['categorical_accuracy'], label='Train Cat Acc', color='#FF9A98')\n",
        "  plt.plot(history_model.history['val_categorical_accuracy'], label='Validation Cat Acc', color='#75B594')\n",
        "  plt.xlabel('Epochs')\n",
        "  plt.ylabel('Cat Accuracy')\n",
        "  plt.legend()\n",
        "  plt.show()\n",
        "  \n",
        "  # plot loss\n",
        "  plt.title(\"LSTM Model Loss\")\n",
        "  plt.semilogy(history_model.history['loss'], label='Train Loss', color='#FF9A98')\n",
        "  plt.semilogy(history_model.history['val_loss'], label='Validation Loss', color='#75B594')\n",
        "  plt.xlabel('Epochs')\n",
        "  plt.ylabel('Loss')\n",
        "  plt.legend()\n",
        "  plt.show()\n",
        "\n",
        "eval_model(history_lstm, X_test_input, y_test_enc)"
      ],
      "execution_count": null,
      "outputs": [
        {
          "output_type": "stream",
          "text": [
            "Test Categorical Accuracy: 0.97179484\n"
          ],
          "name": "stdout"
        },
        {
          "output_type": "display_data",
          "data": {
            "image/png": "[encoded data removed]",
            "text/plain": [
              "<Figure size 360x288 with 1 Axes>"
            ]
          },
          "metadata": {
            "tags": [],
            "needs_background": "light"
          }
        },
        {
          "output_type": "display_data",
          "data": {
            "image/png": "[encoded data removed]",
            "text/plain": [
              "<Figure size 360x288 with 1 Axes>"
            ]
          },
          "metadata": {
            "tags": [],
            "needs_background": "light"
          }
        }
      ]
    },
    {
      "cell_type": "markdown",
      "metadata": {
        "id": "muStw0uasaaf"
      },
      "source": [
        "Average accuracy for all categories: 0.97"
      ]
    }
  ]
}